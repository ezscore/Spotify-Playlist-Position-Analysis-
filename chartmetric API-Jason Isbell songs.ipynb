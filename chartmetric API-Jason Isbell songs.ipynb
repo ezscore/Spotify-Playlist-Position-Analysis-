{
 "cells": [
  {
   "cell_type": "code",
   "execution_count": 384,
   "metadata": {},
   "outputs": [],
   "source": [
    "import requests\n",
    "import json\n",
    "import pandas as pd"
   ]
  },
  {
   "cell_type": "code",
   "execution_count": 57,
   "metadata": {},
   "outputs": [],
   "source": [
    "\n",
    "\n",
    "\n",
    "\n",
    "\n",
    "Content-Type: application/json\n"
   ]
  },
  {
   "cell_type": "code",
   "execution_count": 100,
   "metadata": {},
   "outputs": [],
   "source": [
    "REFRESH_TOKEN = 'ZT9RCsKBcwHaLCPulKmDFXWPxpwfoYtAdYunn5qgeVWnpzYBEkw5qXzFraNgPIAS'\n",
    "api_url = 'https://api.chartmetric.com/api/token'\n",
    "data = {'refreshtoken' : REFRESH_TOKEN}\n",
    "json = {'Content-Type' : 'application/json'}\n"
   ]
  },
  {
   "cell_type": "code",
   "execution_count": 90,
   "metadata": {},
   "outputs": [],
   "source": []
  },
  {
   "cell_type": "code",
   "execution_count": null,
   "metadata": {},
   "outputs": [],
   "source": []
  },
  {
   "cell_type": "code",
   "execution_count": null,
   "metadata": {},
   "outputs": [],
   "source": []
  },
  {
   "cell_type": "code",
   "execution_count": 342,
   "metadata": {},
   "outputs": [],
   "source": [
    "def get_api_token(url, data, json):\n",
    "\n",
    "    response = requests.post(url=api_url, data={'refreshtoken' : REFRESH_TOKEN}, \n",
    "                             json={'Content-Type' : 'application/json'})\n",
    "    results = response.json()\n",
    "    api_token = results['token']\n",
    "    return api_token\n",
    "api_token = get_api_token(url, data, json)    "
   ]
  },
  {
   "cell_type": "code",
   "execution_count": 345,
   "metadata": {},
   "outputs": [],
   "source": [
    "artist = 'jason isbell'"
   ]
  },
  {
   "cell_type": "code",
   "execution_count": 349,
   "metadata": {},
   "outputs": [],
   "source": [
    "def get_artist_info(headers, artist):\n",
    "    response = requests.get(url='https://api.chartmetric.com/api/search',\n",
    "                        headers={'Authorization' : 'Bearer {}'.format(api_token)}, \n",
    "                            params={'q': artist.replace(' ', '+')})\n",
    "    return response.json()\n",
    "    "
   ]
  },
  {
   "cell_type": "code",
   "execution_count": 350,
   "metadata": {},
   "outputs": [],
   "source": [
    "results = get_artist_info(headers, artist)"
   ]
  },
  {
   "cell_type": "code",
   "execution_count": 351,
   "metadata": {},
   "outputs": [
    {
     "data": {
      "text/plain": [
       "2378"
      ]
     },
     "execution_count": 351,
     "metadata": {},
     "output_type": "execute_result"
    }
   ],
   "source": [
    "cm_artist_id = results['obj']['artists'][0]['id']\n",
    "cm_artist_id"
   ]
  },
  {
   "cell_type": "code",
   "execution_count": 352,
   "metadata": {},
   "outputs": [],
   "source": [
    "#get artist tracks from spotify\n",
    "\n",
    "def get_artist_tracks(api_token, cm_artist_id):\n",
    "    response = requests.get(url='https://api.chartmetric.com/api/artist/{}/tracks'.format(cm_artist_id),\n",
    "                       headers={'Authorization' : 'Bearer {}'.format(api_token)})\n",
    "    return response.json()"
   ]
  },
  {
   "cell_type": "code",
   "execution_count": 375,
   "metadata": {},
   "outputs": [
    {
     "data": {
      "text/plain": [
       "{'artist_type': 'main',\n",
       " 'id': 13898661,\n",
       " 'name': '24 Frames',\n",
       " 'image_url': 'https://i.scdn.co/image/61b1d45151a56c592a8149c7ce299df129c28ff7',\n",
       " 'isrc': 'QMHBS1500002',\n",
       " 'need_to_drop': 53,\n",
       " 'description': None,\n",
       " 'created_at': None,\n",
       " 'modified_at': None,\n",
       " 'tags': 'Singer/Songwriter,Music',\n",
       " 'cm_track': 13898661,\n",
       " 'cm_artist': [2378],\n",
       " 'artist_names': ['Jason Isbell'],\n",
       " 'code2s': ['US'],\n",
       " 'artist_images': ['https://i.scdn.co/image/ece8f2f1d7db7005bec9ef95928bb6324ae4f928'],\n",
       " 'artist_covers': [None],\n",
       " 'spotify_track_ids': ['3TWffuE2fuzzl1qC2W2V6j',\n",
       "  '6UAUUbtEhhivBBDSYc1yTI',\n",
       "  '60G2RG8fXZBmn4WzSmx5ub',\n",
       "  '3KyPhlEAIIAtQ1Vkwxm98b'],\n",
       " 'spotify_album_ids': ['1foB2t5YmfC6PxIC31g5Cp',\n",
       "  '4Ohoh1i92FkWICn6ObqwvD',\n",
       "  '1x3gpcLJaZA8vkLxRa6EhH',\n",
       "  '6YjIHnNMSgs8MQU1RgFvYN'],\n",
       " 'spotify_duration_ms': 193613,\n",
       " 'itunes_track_ids': ['986866754',\n",
       "  '994896048',\n",
       "  '997695466',\n",
       "  '990772067',\n",
       "  '1442311350'],\n",
       " 'itunes_album_ids': ['986866335',\n",
       "  '994896043',\n",
       "  '997695464',\n",
       "  '990772066',\n",
       "  '1442311341'],\n",
       " 'storefronts': ['US', 'US', 'US', 'EG', 'AU'],\n",
       " 'deezer_track_ids': ['98786676', '99619986'],\n",
       " 'deezer_album_ids': [10098836, 10203704],\n",
       " 'deezer_duration': 193,\n",
       " 'amazon_track_ids': ['B00WAKBUE8'],\n",
       " 'amazon_album_ids': ['B00WAKBRMS'],\n",
       " 'album_ids': [350846, 1029004, 1729995],\n",
       " 'album_names': ['Something More Than Free',\n",
       "  '24 Frames',\n",
       "  'Something More Than Free'],\n",
       " 'album_upc': ['886445237528', '886445244045', '602547395016'],\n",
       " 'album_label': ['Southeastern Records',\n",
       "  'Southeastern Records',\n",
       "  'Universal Music Australia Pty. Ltd.'],\n",
       " 'release_dates': ['2015-07-17T00:00:00.000Z',\n",
       "  '2015-05-04T00:00:00.000Z',\n",
       "  '2015-07-17T00:00:00.000Z'],\n",
       " 'cm_statistics': {'num_sp_playlists': 477,\n",
       "  'num_sp_editorial_playlists': 1,\n",
       "  'num_am_playlists': 23,\n",
       "  'num_am_editorial_playlists': 0,\n",
       "  'num_de_playlists': 0,\n",
       "  'num_de_editorial_playlists': 0,\n",
       "  'num_az_playlists': 10,\n",
       "  'num_az_editorial_playlists': 10,\n",
       "  'num_yt_playlists': 0,\n",
       "  'num_yt_editorial_playlists': 0,\n",
       "  'yt_playlist_total_reach': None,\n",
       "  'sp_popularity': 51,\n",
       "  'sp_playlist_total_reach': '390294',\n",
       "  'de_playlist_total_reach': None},\n",
       " 'cm_audio_features': {'key': 4,\n",
       "  'mode': 0,\n",
       "  'danceability': '0.568',\n",
       "  'energy': '0.528',\n",
       "  'speechiness': '0.0253',\n",
       "  'acousticness': '0.156',\n",
       "  'instrumentalness': '0',\n",
       "  'liveness': '0.151',\n",
       "  'valence': '0.749',\n",
       "  'tempo': '104.93',\n",
       "  'loudness': '-10.22'}}"
      ]
     },
     "execution_count": 375,
     "metadata": {},
     "output_type": "execute_result"
    }
   ],
   "source": [
    "tracks_info = get_artist_tracks(api_token, cm_artist_id)\n",
    "track_list = tracks_info['obj']\n",
    "track_list[0]"
   ]
  },
  {
   "cell_type": "code",
   "execution_count": 392,
   "metadata": {},
   "outputs": [],
   "source": [
    "\n",
    "def parse_track_data(track_list):\n",
    "    song_list = []\n",
    "    for song in track_list:\n",
    "        song_tuple = (song['cm_artist'][0], song['cm_track'], song['name'], song['artist_names'][0],\n",
    "                          song['spotify_track_ids'], song['release_dates'])\n",
    "        song_list.append(song_tuple)\n",
    "    return song_list\n",
    "    \n",
    "\n",
    "#cm_artist,cm_track, track_name, spotify_track_ids, release_dates, danceability, energy,speechiness, acoustiness, instrumentalness, liveness, valence, tempo, loudness"
   ]
  },
  {
   "cell_type": "code",
   "execution_count": 393,
   "metadata": {},
   "outputs": [],
   "source": [
    "track_data = parse_track_data(track_list)\n"
   ]
  },
  {
   "cell_type": "code",
   "execution_count": 395,
   "metadata": {},
   "outputs": [],
   "source": [
    "#create pandas dataframe for isbell songs\n",
    "\n",
    "isbell_track_df = pd.DataFrame(data=track_data, columns=['CM Artist ID', 'CM Track ID', 'Title', 'Artist', \n",
    "             'Spotify Track IDs', 'Release Dates'])"
   ]
  },
  {
   "cell_type": "code",
   "execution_count": 396,
   "metadata": {},
   "outputs": [],
   "source": [
    "isbell_track_df.to_csv('isbell_track_info.csv')"
   ]
  },
  {
   "cell_type": "code",
   "execution_count": null,
   "metadata": {},
   "outputs": [],
   "source": []
  }
 ],
 "metadata": {
  "kernelspec": {
   "display_name": "Python 3",
   "language": "python",
   "name": "python3"
  },
  "language_info": {
   "codemirror_mode": {
    "name": "ipython",
    "version": 3
   },
   "file_extension": ".py",
   "mimetype": "text/x-python",
   "name": "python",
   "nbconvert_exporter": "python",
   "pygments_lexer": "ipython3",
   "version": "3.7.4"
  }
 },
 "nbformat": 4,
 "nbformat_minor": 2
}
