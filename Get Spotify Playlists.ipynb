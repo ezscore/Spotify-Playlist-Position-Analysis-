{
 "cells": [
  {
   "cell_type": "code",
   "execution_count": 2,
   "metadata": {},
   "outputs": [],
   "source": [
    "import requests\n",
    "import json\n",
    "import pandas as pd"
   ]
  },
  {
   "cell_type": "code",
   "execution_count": 2,
   "metadata": {},
   "outputs": [],
   "source": [
    "REFRESH_TOKEN = 'ZT9RCsKBcwHaLCPulKmDFXWPxpwfoYtAdYunn5qgeVWnpzYBEkw5qXzFraNgPIAS'\n",
    "api_url = 'https://api.chartmetric.com/api/token'\n",
    "data = {'refreshtoken' : REFRESH_TOKEN}\n",
    "json = {'Content-Type' : 'application/json'}"
   ]
  },
  {
   "cell_type": "code",
   "execution_count": 3,
   "metadata": {},
   "outputs": [],
   "source": [
    "#create function to retrieve access token\n",
    "def get_api_token(url, data, json):\n",
    "\n",
    "    response = requests.post(url=api_url, data={'refreshtoken' : REFRESH_TOKEN}, \n",
    "                             json={'Content-Type' : 'application/json'})\n",
    "    results = response.json()\n",
    "    api_token = results['token']\n",
    "    return api_token\n",
    "api_token = get_api_token(api_url, data, json)  "
   ]
  },
  {
   "cell_type": "code",
   "execution_count": null,
   "metadata": {},
   "outputs": [],
   "source": []
  },
  {
   "cell_type": "code",
   "execution_count": 12,
   "metadata": {},
   "outputs": [],
   "source": [
    "headers={'Authorization' : 'Bearer {}'.format(api_token)}\n",
    "\n",
    "params = {'limit': 100\n",
    "    \n",
    "}\n",
    "\n",
    "def get_playlists(headers, platform):\n",
    "    response = requests.get(url='https://api.chartmetric.com/api/playlist/{}/lists'.format(platform),\n",
    "                        headers=headers, params=params\n",
    "                            )\n",
    "    \n",
    "    data = response.json()\n",
    "    return data['obj']\n",
    "    "
   ]
  },
  {
   "cell_type": "code",
   "execution_count": null,
   "metadata": {},
   "outputs": [],
   "source": [
    "results = get_playlists(headers, 'spotify')"
   ]
  },
  {
   "cell_type": "code",
   "execution_count": null,
   "metadata": {},
   "outputs": [],
   "source": [
    "#define variable for one playlist\n",
    "one_playlist = results[0]"
   ]
  },
  {
   "cell_type": "code",
   "execution_count": null,
   "metadata": {},
   "outputs": [],
   "source": [
    "#review keys for one playlist\n",
    "one_playlist"
   ]
  },
  {
   "cell_type": "markdown",
   "metadata": {},
   "source": [
    "## Create Function to Parse Playlist Data"
   ]
  },
  {
   "cell_type": "code",
   "execution_count": 5,
   "metadata": {},
   "outputs": [],
   "source": [
    "def parse_playlist_data(results):\n",
    "    tuple_list = []\n",
    "\n",
    "    for playlist in results:\n",
    "\n",
    "        playlist_tuple = (playlist['id'], playlist['name'], playlist['followers'],\n",
    "                          playlist['editorial'], playlist['monthly_listeners'])\n",
    "        tuple_list.append(playlist_tuple)\n",
    "    return tuple_list\n",
    "    "
   ]
  },
  {
   "cell_type": "code",
   "execution_count": null,
   "metadata": {},
   "outputs": [],
   "source": [
    "tuple_list = parse_playlist_data(results)"
   ]
  },
  {
   "cell_type": "markdown",
   "metadata": {},
   "source": [
    "## Creating a DataFrame"
   ]
  },
  {
   "cell_type": "code",
   "execution_count": 7,
   "metadata": {},
   "outputs": [],
   "source": [
    "#create a function that inserts playlist data into a dataframe\n",
    "def create_playlist_dataframe(data):\n",
    "\n",
    "    df = pd.DataFrame(data=data, columns=['CM_ID', 'Playlist_Name', 'Total_Followers', \n",
    "                                       'Editorial', 'Monthly_Listeners'])\n",
    "    return df\n",
    "    "
   ]
  },
  {
   "cell_type": "code",
   "execution_count": null,
   "metadata": {},
   "outputs": [],
   "source": [
    "create_playlist_dataframe(data)"
   ]
  },
  {
   "cell_type": "code",
   "execution_count": null,
   "metadata": {},
   "outputs": [],
   "source": []
  },
  {
   "cell_type": "code",
   "execution_count": 13,
   "metadata": {},
   "outputs": [],
   "source": [
    "playlists = get_playlists(headers, 'spotify')\n",
    "\n",
    "\n",
    "\n"
   ]
  },
  {
   "cell_type": "code",
   "execution_count": 14,
   "metadata": {},
   "outputs": [],
   "source": [
    "playlist_data = parse_playlist_data(playlists)"
   ]
  },
  {
   "cell_type": "code",
   "execution_count": 15,
   "metadata": {},
   "outputs": [],
   "source": [
    "df = create_playlist_dataframe(playlist_data)\n"
   ]
  },
  {
   "cell_type": "code",
   "execution_count": 17,
   "metadata": {},
   "outputs": [],
   "source": [
    "#create csv file for spotify playlists\n",
    "\n",
    "df.to_csv('spotify_playlist_data.csv')"
   ]
  },
  {
   "cell_type": "code",
   "execution_count": null,
   "metadata": {},
   "outputs": [],
   "source": [
    "insert_playlist_into_dataframe(data)"
   ]
  },
  {
   "cell_type": "code",
   "execution_count": 3,
   "metadata": {},
   "outputs": [
    {
     "data": {
      "text/html": [
       "<div>\n",
       "<style scoped>\n",
       "    .dataframe tbody tr th:only-of-type {\n",
       "        vertical-align: middle;\n",
       "    }\n",
       "\n",
       "    .dataframe tbody tr th {\n",
       "        vertical-align: top;\n",
       "    }\n",
       "\n",
       "    .dataframe thead th {\n",
       "        text-align: right;\n",
       "    }\n",
       "</style>\n",
       "<table border=\"1\" class=\"dataframe\">\n",
       "  <thead>\n",
       "    <tr style=\"text-align: right;\">\n",
       "      <th></th>\n",
       "      <th>CM_ID</th>\n",
       "      <th>Playlist_Name</th>\n",
       "      <th>Total_Followers</th>\n",
       "      <th>Editorial</th>\n",
       "      <th>Monthly_Listeners</th>\n",
       "    </tr>\n",
       "  </thead>\n",
       "  <tbody>\n",
       "    <tr>\n",
       "      <td>0</td>\n",
       "      <td>1645080</td>\n",
       "      <td>Today's Top Hits</td>\n",
       "      <td>25814307</td>\n",
       "      <td>True</td>\n",
       "      <td>3481817</td>\n",
       "    </tr>\n",
       "    <tr>\n",
       "      <td>1</td>\n",
       "      <td>1709450</td>\n",
       "      <td>Global Top 50</td>\n",
       "      <td>14983433</td>\n",
       "      <td>True</td>\n",
       "      <td>842384</td>\n",
       "    </tr>\n",
       "    <tr>\n",
       "      <td>2</td>\n",
       "      <td>848051</td>\n",
       "      <td>RapCaviar</td>\n",
       "      <td>12654071</td>\n",
       "      <td>True</td>\n",
       "      <td>1165531</td>\n",
       "    </tr>\n",
       "    <tr>\n",
       "      <td>3</td>\n",
       "      <td>1645077</td>\n",
       "      <td>¡Viva Latino!</td>\n",
       "      <td>10557236</td>\n",
       "      <td>True</td>\n",
       "      <td>892763</td>\n",
       "    </tr>\n",
       "    <tr>\n",
       "      <td>4</td>\n",
       "      <td>1015841</td>\n",
       "      <td>Baila Reggaeton</td>\n",
       "      <td>9937372</td>\n",
       "      <td>True</td>\n",
       "      <td>710159</td>\n",
       "    </tr>\n",
       "    <tr>\n",
       "      <td>...</td>\n",
       "      <td>...</td>\n",
       "      <td>...</td>\n",
       "      <td>...</td>\n",
       "      <td>...</td>\n",
       "      <td>...</td>\n",
       "    </tr>\n",
       "    <tr>\n",
       "      <td>95</td>\n",
       "      <td>19691</td>\n",
       "      <td>Guardians of the Galaxy – The Complete Mixtape</td>\n",
       "      <td>2148067</td>\n",
       "      <td>False</td>\n",
       "      <td>122569</td>\n",
       "    </tr>\n",
       "    <tr>\n",
       "      <td>96</td>\n",
       "      <td>1644583</td>\n",
       "      <td>Coffee Table Jazz</td>\n",
       "      <td>2145067</td>\n",
       "      <td>True</td>\n",
       "      <td>103715</td>\n",
       "    </tr>\n",
       "    <tr>\n",
       "      <td>97</td>\n",
       "      <td>1644582</td>\n",
       "      <td>The Most Beautiful Songs in the World</td>\n",
       "      <td>2122993</td>\n",
       "      <td>True</td>\n",
       "      <td>32893</td>\n",
       "    </tr>\n",
       "    <tr>\n",
       "      <td>98</td>\n",
       "      <td>1336790</td>\n",
       "      <td>Éxitos España</td>\n",
       "      <td>2117318</td>\n",
       "      <td>True</td>\n",
       "      <td>416145</td>\n",
       "    </tr>\n",
       "    <tr>\n",
       "      <td>99</td>\n",
       "      <td>987168</td>\n",
       "      <td>It's a Hit!</td>\n",
       "      <td>2109453</td>\n",
       "      <td>True</td>\n",
       "      <td>98354</td>\n",
       "    </tr>\n",
       "  </tbody>\n",
       "</table>\n",
       "<p>100 rows × 5 columns</p>\n",
       "</div>"
      ],
      "text/plain": [
       "      CM_ID                                   Playlist_Name  Total_Followers  \\\n",
       "0   1645080                                Today's Top Hits         25814307   \n",
       "1   1709450                                   Global Top 50         14983433   \n",
       "2    848051                                       RapCaviar         12654071   \n",
       "3   1645077                                   ¡Viva Latino!         10557236   \n",
       "4   1015841                                 Baila Reggaeton          9937372   \n",
       "..      ...                                             ...              ...   \n",
       "95    19691  Guardians of the Galaxy – The Complete Mixtape          2148067   \n",
       "96  1644583                               Coffee Table Jazz          2145067   \n",
       "97  1644582           The Most Beautiful Songs in the World          2122993   \n",
       "98  1336790                                   Éxitos España          2117318   \n",
       "99   987168                                     It's a Hit!          2109453   \n",
       "\n",
       "    Editorial  Monthly_Listeners  \n",
       "0        True            3481817  \n",
       "1        True             842384  \n",
       "2        True            1165531  \n",
       "3        True             892763  \n",
       "4        True             710159  \n",
       "..        ...                ...  \n",
       "95      False             122569  \n",
       "96       True             103715  \n",
       "97       True              32893  \n",
       "98       True             416145  \n",
       "99       True              98354  \n",
       "\n",
       "[100 rows x 5 columns]"
      ]
     },
     "execution_count": 3,
     "metadata": {},
     "output_type": "execute_result"
    }
   ],
   "source": [
    "pd.read_csv('spotify_playlist_data.csv', index_col=0)"
   ]
  },
  {
   "cell_type": "code",
   "execution_count": null,
   "metadata": {},
   "outputs": [],
   "source": []
  }
 ],
 "metadata": {
  "kernelspec": {
   "display_name": "Python 3",
   "language": "python",
   "name": "python3"
  },
  "language_info": {
   "codemirror_mode": {
    "name": "ipython",
    "version": 3
   },
   "file_extension": ".py",
   "mimetype": "text/x-python",
   "name": "python",
   "nbconvert_exporter": "python",
   "pygments_lexer": "ipython3",
   "version": "3.7.4"
  }
 },
 "nbformat": 4,
 "nbformat_minor": 2
}
