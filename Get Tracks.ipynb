{
 "cells": [
  {
   "cell_type": "code",
   "execution_count": 13,
   "metadata": {},
   "outputs": [],
   "source": [
    "import requests\n",
    "import json\n",
    "import pandas as pd\n",
    "import time"
   ]
  },
  {
   "cell_type": "code",
   "execution_count": 20,
   "metadata": {},
   "outputs": [],
   "source": [
    "REFRESH_TOKEN = 'ZT9RCsKBcwHaLCPulKmDFXWPxpwfoYtAdYunn5qgeVWnpzYBEkw5qXzFraNgPIAS'\n",
    "api_url = 'https://api.chartmetric.com/api/token'\n",
    "data = {'refreshtoken' : REFRESH_TOKEN}\n",
    "json = {'Content-Type' : 'application/json'}"
   ]
  },
  {
   "cell_type": "code",
   "execution_count": 21,
   "metadata": {},
   "outputs": [],
   "source": [
    "#create function to retrieve access token\n",
    "def get_api_token(url, data, json):\n",
    "\n",
    "    response = requests.post(url=api_url, data={'refreshtoken' : REFRESH_TOKEN}, \n",
    "                             json={'Content-Type' : 'application/json'})\n",
    "    results = response.json()\n",
    "    api_token = results['token']\n",
    "    return api_token\n",
    "api_token = get_api_token(api_url, data, json)  "
   ]
  },
  {
   "cell_type": "code",
   "execution_count": 7,
   "metadata": {},
   "outputs": [],
   "source": [
    "#import playlist df\n",
    "\n",
    "df = pd.read_csv('spotify_playlist_data.csv', index_col=0)"
   ]
  },
  {
   "cell_type": "code",
   "execution_count": null,
   "metadata": {},
   "outputs": [],
   "source": [
    "df"
   ]
  },
  {
   "cell_type": "code",
   "execution_count": 8,
   "metadata": {},
   "outputs": [],
   "source": [
    "#create a list of playlist IDs\n",
    "playlist_ID_list = list(df.CM_ID)"
   ]
  },
  {
   "cell_type": "code",
   "execution_count": null,
   "metadata": {},
   "outputs": [],
   "source": [
    "one_id = playlist_ID_list[0]"
   ]
  },
  {
   "cell_type": "code",
   "execution_count": null,
   "metadata": {},
   "outputs": [],
   "source": [
    "one_id"
   ]
  },
  {
   "cell_type": "code",
   "execution_count": 23,
   "metadata": {},
   "outputs": [],
   "source": [
    "headers={'Authorization' : 'Bearer {}'.format(api_token)}\n",
    "\n",
    "\n",
    "def get_playlist_tracks(headers, playlist_ID_list, platform, span):\n",
    "    track_list = []\n",
    "    cur = 0\n",
    "    for one_id in playlist_ID_list:\n",
    "        \n",
    "        response = requests.get(url='https://api.chartmetric.com/api/playlist/{}/{}/{}/tracks'.format(platform,one_id,span),\n",
    "                            headers=headers\n",
    "                                )\n",
    "        if response.status_code == 200:\n",
    "\n",
    "            data = response.json()\n",
    "            tracks = data['obj']\n",
    "            track_list.extend(tracks)\n",
    "            cur += 1\n",
    "            print(cur)\n",
    "            time.sleep(5)\n",
    "        else:\n",
    "\n",
    "            print(response.status_code)\n",
    "        \n",
    "    return track_list\n",
    "    "
   ]
  },
  {
   "cell_type": "code",
   "execution_count": null,
   "metadata": {},
   "outputs": [],
   "source": [
    "get_playlist_tracks(headers, playlist_ID_list, 'spotify', 'current')"
   ]
  },
  {
   "cell_type": "code",
   "execution_count": null,
   "metadata": {},
   "outputs": [],
   "source": [
    "tracks = get_playlist_tracks(headers, one_id, 'spotify', 'current')"
   ]
  },
  {
   "cell_type": "code",
   "execution_count": null,
   "metadata": {},
   "outputs": [],
   "source": [
    "# tracks[0]"
   ]
  },
  {
   "cell_type": "code",
   "execution_count": 11,
   "metadata": {},
   "outputs": [],
   "source": [
    "def parse_track_data(results):\n",
    "    track_list = []\n",
    "\n",
    "    for track in results:\n",
    "\n",
    "        track_tuple = (track['cm_track'], track['added_at'], track['position'],\n",
    "                       track['spotify_popularity'], track['name'], track['artist_names'][0], \n",
    "                       track['cm_artist'][0],track['release_dates'][0], track['audio_features']\n",
    "        )\n",
    "        track_list.append(track_tuple)\n",
    "    return track_list"
   ]
  },
  {
   "cell_type": "code",
   "execution_count": null,
   "metadata": {},
   "outputs": [],
   "source": [
    "len(playlist_ID_list)\n",
    "\n"
   ]
  },
  {
   "cell_type": "code",
   "execution_count": 24,
   "metadata": {},
   "outputs": [
    {
     "name": "stdout",
     "output_type": "stream",
     "text": [
      "1\n",
      "2\n",
      "3\n",
      "4\n",
      "5\n",
      "6\n",
      "7\n",
      "8\n",
      "9\n",
      "10\n",
      "11\n",
      "12\n",
      "13\n",
      "14\n",
      "15\n",
      "16\n",
      "17\n",
      "18\n",
      "19\n",
      "20\n",
      "21\n",
      "22\n",
      "23\n",
      "24\n",
      "25\n",
      "26\n",
      "27\n",
      "28\n",
      "29\n",
      "30\n",
      "31\n",
      "32\n",
      "33\n",
      "34\n",
      "35\n",
      "36\n",
      "37\n",
      "38\n",
      "39\n",
      "502\n",
      "40\n",
      "41\n",
      "42\n",
      "43\n",
      "44\n",
      "45\n",
      "46\n",
      "47\n",
      "48\n",
      "49\n",
      "50\n",
      "51\n",
      "52\n",
      "53\n",
      "54\n",
      "55\n",
      "56\n",
      "57\n",
      "58\n",
      "59\n",
      "60\n",
      "61\n",
      "62\n",
      "63\n",
      "64\n",
      "65\n",
      "66\n",
      "502\n",
      "67\n",
      "68\n",
      "69\n",
      "70\n",
      "71\n",
      "72\n",
      "73\n",
      "74\n",
      "75\n",
      "76\n",
      "77\n",
      "78\n",
      "79\n",
      "80\n",
      "81\n",
      "82\n",
      "83\n",
      "84\n",
      "85\n",
      "86\n",
      "87\n",
      "88\n",
      "89\n",
      "90\n",
      "91\n",
      "92\n",
      "93\n",
      "94\n",
      "95\n",
      "96\n",
      "97\n",
      "98\n"
     ]
    }
   ],
   "source": [
    "\n",
    "\n",
    "tracks = get_playlist_tracks(headers, playlist_ID_list, 'spotify', 'current')\n",
    "\n",
    "track_list = parse_track_data(tracks)\n",
    "\n",
    "\n",
    "df = pd.DataFrame(data=track_list, columns=['CM_Track_ID', 'Added_At', 'Position', \n",
    "                                                   'Spotify_Popularity', 'Track_Name', 'Artist_Name', \n",
    "                                                    'CM_Artist_ID', 'Release_Date', 'Audio_Features'])\n",
    "\n",
    "\n",
    "\n"
   ]
  },
  {
   "cell_type": "code",
   "execution_count": 16,
   "metadata": {},
   "outputs": [
    {
     "name": "stdout",
     "output_type": "stream",
     "text": [
      "1645080\n",
      "1709450\n",
      "848051\n",
      "1645077\n",
      "1015841\n",
      "1644599\n",
      "1644626\n",
      "1644653\n",
      "1644661\n",
      "1645060\n",
      "1645088\n",
      "977170\n",
      "1645089\n",
      "983721\n",
      "1644741\n",
      "1644605\n",
      "1644742\n",
      "1645047\n",
      "1645076\n",
      "1776040\n",
      "977243\n",
      "1776041\n",
      "1644654\n",
      "983482\n",
      "1644658\n",
      "1645048\n",
      "1208881\n",
      "1776440\n",
      "1746663\n",
      "1644591\n",
      "1644590\n",
      "984494\n",
      "1644598\n",
      "1644764\n",
      "977215\n",
      "1644652\n",
      "1644680\n",
      "1776017\n",
      "1720412\n",
      "1644639\n",
      "1645898\n",
      "1644765\n",
      "983121\n",
      "1644679\n",
      "958422\n",
      "1644199\n",
      "1776039\n",
      "983111\n",
      "1676802\n",
      "984517\n",
      "1710380\n",
      "1644739\n",
      "1711074\n",
      "1644667\n",
      "1644663\n",
      "1634625\n",
      "1644644\n",
      "1775976\n",
      "1720381\n",
      "1816590\n",
      "983109\n",
      "1634899\n",
      "1126222\n",
      "1644504\n",
      "1644662\n",
      "1644600\n",
      "983116\n",
      "1736631\n",
      "978494\n",
      "1634802\n",
      "1747437\n",
      "1644695\n",
      "977158\n",
      "972163\n",
      "1336801\n",
      "1644207\n",
      "1748351\n",
      "1634935\n",
      "1336823\n",
      "1314\n",
      "1644728\n",
      "983774\n",
      "1634718\n",
      "1644738\n",
      "1643772\n",
      "1699927\n",
      "1644611\n",
      "1645059\n",
      "1635434\n",
      "1644230\n",
      "1644208\n",
      "1646795\n",
      "978402\n",
      "1635107\n",
      "1644596\n",
      "19691\n",
      "1644583\n",
      "1644582\n",
      "1336790\n",
      "987168\n",
      "1\n",
      "1645080\n",
      "1709450\n",
      "848051\n",
      "1645077\n",
      "1015841\n",
      "1644599\n",
      "1644626\n",
      "1644653\n",
      "1644661\n",
      "1645060\n",
      "1645088\n",
      "977170\n",
      "1645089\n",
      "983721\n",
      "1644741\n",
      "1644605\n",
      "1644742\n",
      "1645047\n",
      "1645076\n",
      "1776040\n",
      "977243\n",
      "1776041\n",
      "1644654\n",
      "983482\n",
      "1644658\n",
      "1645048\n",
      "1208881\n",
      "1776440\n",
      "1746663\n",
      "1644591\n",
      "1644590\n",
      "984494\n",
      "1644598\n",
      "1644764\n",
      "977215\n",
      "1644652\n",
      "1644680\n",
      "1776017\n",
      "1720412\n",
      "1644639\n",
      "1645898\n",
      "1644765\n",
      "983121\n",
      "1644679\n",
      "958422\n",
      "1644199\n",
      "1776039\n",
      "983111\n",
      "1676802\n",
      "984517\n",
      "1710380\n",
      "1644739\n",
      "1711074\n",
      "1644667\n",
      "1644663\n",
      "1634625\n",
      "1644644\n",
      "1775976\n",
      "1720381\n",
      "1816590\n",
      "983109\n",
      "1634899\n"
     ]
    },
    {
     "ename": "KeyboardInterrupt",
     "evalue": "",
     "output_type": "error",
     "traceback": [
      "\u001b[0;31m---------------------------------------------------------------------------\u001b[0m",
      "\u001b[0;31mKeyboardInterrupt\u001b[0m                         Traceback (most recent call last)",
      "\u001b[0;32m<ipython-input-16-45975bbe2abf>\u001b[0m in \u001b[0;36m<module>\u001b[0;34m\u001b[0m\n\u001b[0;32m----> 1\u001b[0;31m \u001b[0mdf\u001b[0m \u001b[0;34m=\u001b[0m \u001b[0mcreate_track_dataframee\u001b[0m\u001b[0;34m(\u001b[0m\u001b[0mplaylist_ID_list\u001b[0m\u001b[0;34m)\u001b[0m\u001b[0;34m\u001b[0m\u001b[0;34m\u001b[0m\u001b[0m\n\u001b[0m",
      "\u001b[0;32m<ipython-input-15-3161fdac236c>\u001b[0m in \u001b[0;36mcreate_track_dataframee\u001b[0;34m(playlist_ID_list)\u001b[0m\n\u001b[1;32m      4\u001b[0m         \u001b[0mall_track_data\u001b[0m \u001b[0;34m=\u001b[0m \u001b[0;34m[\u001b[0m\u001b[0;34m]\u001b[0m\u001b[0;34m\u001b[0m\u001b[0;34m\u001b[0m\u001b[0m\n\u001b[1;32m      5\u001b[0m \u001b[0;34m\u001b[0m\u001b[0m\n\u001b[0;32m----> 6\u001b[0;31m         \u001b[0mtracks\u001b[0m \u001b[0;34m=\u001b[0m \u001b[0mget_playlist_tracks\u001b[0m\u001b[0;34m(\u001b[0m\u001b[0mheaders\u001b[0m\u001b[0;34m,\u001b[0m \u001b[0mplaylist_ID_list\u001b[0m\u001b[0;34m,\u001b[0m \u001b[0;34m'spotify'\u001b[0m\u001b[0;34m,\u001b[0m \u001b[0;34m'current'\u001b[0m\u001b[0;34m)\u001b[0m\u001b[0;34m\u001b[0m\u001b[0;34m\u001b[0m\u001b[0m\n\u001b[0m\u001b[1;32m      7\u001b[0m \u001b[0;34m\u001b[0m\u001b[0m\n\u001b[1;32m      8\u001b[0m         \u001b[0mtrack_list\u001b[0m \u001b[0;34m=\u001b[0m \u001b[0mparse_track_data\u001b[0m\u001b[0;34m(\u001b[0m\u001b[0mtracks\u001b[0m\u001b[0;34m)\u001b[0m\u001b[0;34m\u001b[0m\u001b[0;34m\u001b[0m\u001b[0m\n",
      "\u001b[0;32m<ipython-input-14-fc40317120b3>\u001b[0m in \u001b[0;36mget_playlist_tracks\u001b[0;34m(headers, playlist_ID_list, platform, span)\u001b[0m\n\u001b[1;32m     15\u001b[0m             \u001b[0mtrack_list\u001b[0m\u001b[0;34m.\u001b[0m\u001b[0mextend\u001b[0m\u001b[0;34m(\u001b[0m\u001b[0mtracks\u001b[0m\u001b[0;34m)\u001b[0m\u001b[0;34m\u001b[0m\u001b[0;34m\u001b[0m\u001b[0m\n\u001b[1;32m     16\u001b[0m             \u001b[0mprint\u001b[0m\u001b[0;34m(\u001b[0m\u001b[0mone_id\u001b[0m\u001b[0;34m)\u001b[0m\u001b[0;34m\u001b[0m\u001b[0;34m\u001b[0m\u001b[0m\n\u001b[0;32m---> 17\u001b[0;31m             \u001b[0mtime\u001b[0m\u001b[0;34m.\u001b[0m\u001b[0msleep\u001b[0m\u001b[0;34m(\u001b[0m\u001b[0;36m5\u001b[0m\u001b[0;34m)\u001b[0m\u001b[0;34m\u001b[0m\u001b[0;34m\u001b[0m\u001b[0m\n\u001b[0m\u001b[1;32m     18\u001b[0m         \u001b[0;32melse\u001b[0m\u001b[0;34m:\u001b[0m\u001b[0;34m\u001b[0m\u001b[0;34m\u001b[0m\u001b[0m\n\u001b[1;32m     19\u001b[0m \u001b[0;34m\u001b[0m\u001b[0m\n",
      "\u001b[0;31mKeyboardInterrupt\u001b[0m: "
     ]
    }
   ],
   "source": [
    "df = create_track_dataframee(playlist_ID_list)"
   ]
  },
  {
   "cell_type": "code",
   "execution_count": 26,
   "metadata": {},
   "outputs": [],
   "source": [
    "df.to_csv('spotify_playlist_tracks.csv')"
   ]
  },
  {
   "cell_type": "code",
   "execution_count": 27,
   "metadata": {},
   "outputs": [
    {
     "data": {
      "text/plain": [
       "(8283, 9)"
      ]
     },
     "execution_count": 27,
     "metadata": {},
     "output_type": "execute_result"
    }
   ],
   "source": [
    "df.shape"
   ]
  },
  {
   "cell_type": "code",
   "execution_count": null,
   "metadata": {},
   "outputs": [],
   "source": []
  }
 ],
 "metadata": {
  "kernelspec": {
   "display_name": "Python 3",
   "language": "python",
   "name": "python3"
  },
  "language_info": {
   "codemirror_mode": {
    "name": "ipython",
    "version": 3
   },
   "file_extension": ".py",
   "mimetype": "text/x-python",
   "name": "python",
   "nbconvert_exporter": "python",
   "pygments_lexer": "ipython3",
   "version": "3.7.4"
  }
 },
 "nbformat": 4,
 "nbformat_minor": 2
}
