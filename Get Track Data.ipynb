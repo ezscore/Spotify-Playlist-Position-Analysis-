{
 "cells": [
  {
   "cell_type": "code",
   "execution_count": null,
   "metadata": {},
   "outputs": [],
   "source": [
    "REFRESH_TOKEN = 'ZT9RCsKBcwHaLCPulKmDFXWPxpwfoYtAdYunn5qgeVWnpzYBEkw5qXzFraNgPIAS'\n",
    "api_url = 'https://api.chartmetric.com/api/token'\n",
    "data = {'refreshtoken' : REFRESH_TOKEN}\n",
    "json = {'Content-Type' : 'application/json'}\n",
    "\n",
    "import numpy as np\n"
   ]
  },
  {
   "cell_type": "code",
   "execution_count": null,
   "metadata": {},
   "outputs": [],
   "source": [
    "import requests\n",
    "import json\n",
    "import pandas as pd\n",
    "import time"
   ]
  },
  {
   "cell_type": "code",
   "execution_count": null,
   "metadata": {},
   "outputs": [],
   "source": [
    "df = pd.read_csv('spotify_playlist_tracks.csv', index_col=0)\n",
    "\n",
    "cm_artist_ids = list(df.CM_Artist_ID)\n",
    "cm_track_ids = list(df.CM_Track_ID)"
   ]
  },
  {
   "cell_type": "code",
   "execution_count": null,
   "metadata": {},
   "outputs": [],
   "source": [
    "track_ids"
   ]
  },
  {
   "cell_type": "code",
   "execution_count": null,
   "metadata": {},
   "outputs": [],
   "source": [
    "track_ids = pd.Series(cm_track_ids).dropna()\n",
    "cm_track_ids = [int(ID) for ID in cm_track_ids]"
   ]
  },
  {
   "cell_type": "code",
   "execution_count": null,
   "metadata": {},
   "outputs": [],
   "source": [
    "track_ids = list(track_ids)"
   ]
  },
  {
   "cell_type": "code",
   "execution_count": null,
   "metadata": {},
   "outputs": [],
   "source": [
    "\n"
   ]
  },
  {
   "cell_type": "code",
   "execution_count": null,
   "metadata": {},
   "outputs": [],
   "source": [
    "cm_track_ids = [int(ID) for ID in cm_track_ids]"
   ]
  },
  {
   "cell_type": "code",
   "execution_count": null,
   "metadata": {},
   "outputs": [],
   "source": [
    "one_track_id = cm_track_ids[0]"
   ]
  },
  {
   "cell_type": "code",
   "execution_count": null,
   "metadata": {},
   "outputs": [],
   "source": [
    "#create function to retrieve access token\n",
    "def get_api_token(url, data, json):\n",
    "\n",
    "    response = requests.post(url=api_url, data={'refreshtoken' : REFRESH_TOKEN}, \n",
    "                             json={'Content-Type' : 'application/json'})\n",
    "    results = response.json()\n",
    "    api_token = results['token']\n",
    "    return api_token\n",
    "api_token = get_api_token(api_url, data, json)  "
   ]
  },
  {
   "cell_type": "code",
   "execution_count": null,
   "metadata": {},
   "outputs": [],
   "source": []
  },
  {
   "cell_type": "code",
   "execution_count": null,
   "metadata": {},
   "outputs": [],
   "source": [
    "#create a function to call meta data for one track\n",
    "\n",
    "headers={'Authorization' : 'Bearer {}'.format(api_token)}\n",
    "\n",
    "def get_track_metadata(headers, one_track_id):\n",
    "\n",
    "        \n",
    "    response = requests.get(url='https://api.chartmetric.com/api/track/{}'.format(one_track_id),\n",
    "                            headers=headers\n",
    "                                )\n",
    "    if response.status_code == 200:\n",
    "\n",
    "        data = response.json()\n",
    "        track = data['obj']\n",
    "    else:\n",
    "        pass\n",
    "    return track\n",
    "\n",
    "        \n",
    "    \n",
    "    "
   ]
  },
  {
   "cell_type": "code",
   "execution_count": null,
   "metadata": {},
   "outputs": [],
   "source": [
    "track = get_track_metadata(headers, one_track_id)\n"
   ]
  },
  {
   "cell_type": "code",
   "execution_count": null,
   "metadata": {},
   "outputs": [],
   "source": []
  },
  {
   "cell_type": "code",
   "execution_count": null,
   "metadata": {},
   "outputs": [],
   "source": [
    "def parse_track_metadata(track):\n",
    "    try:\n",
    "\n",
    "        value_tuple = (track['id'], track['name'], track['artists'][0]['name'], track['artists'][0]['gender'], \n",
    "                            track['artists'][0]['date_of_birth'], \n",
    "                            track['albums'][0]['name'], track['albums'][0]['release_date'], \n",
    "                            track['albums'][0]['label'], track['cm_statistics']['num_sp_playlists'],\n",
    "                            track['cm_statistics']['sp_playlist_total_reach'], track['cm_audio_features']['key'],\n",
    "                            track['cm_audio_features']['danceability'], track['cm_audio_features']['energy'],\n",
    "                            track['cm_audio_features']['acousticness'], \n",
    "                            track['cm_audio_features']['instrumentalness'], track['cm_audio_features']['liveness'],\n",
    "                            track['cm_audio_features']['valence'], track['cm_audio_features']['tempo'], \n",
    "                            track['cm_audio_features']['loudness'])\n",
    "    except:\n",
    "        value_tuple = (track['id'], track['name'], track['artists'][0]['name'], track['artists'][0]['gender'], \n",
    "                            track['artists'][0]['date_of_birth'], \n",
    "                            track['albums'][0]['name'], track['albums'][0]['release_date'], \n",
    "                            track['albums'][0]['label'], ' n',\n",
    "                            'nan', track['cm_audio_features']['key'],\n",
    "                            track['cm_audio_features']['danceability'], track['cm_audio_features']['energy'],\n",
    "                            track['cm_audio_features']['acousticness'], \n",
    "                            track['cm_audio_features']['instrumentalness'], track['cm_audio_features']['liveness'],\n",
    "                            track['cm_audio_features']['valence'], track['cm_audio_features']['tempo'], \n",
    "                            track['cm_audio_features']['loudness'])\n",
    "    return value_tuple"
   ]
  },
  {
   "cell_type": "code",
   "execution_count": null,
   "metadata": {},
   "outputs": [],
   "source": [
    "# parse_track_metadata(track)"
   ]
  },
  {
   "cell_type": "code",
   "execution_count": null,
   "metadata": {},
   "outputs": [],
   "source": [
    "#create key tuple\n",
    "key_tuple = ('CM_ID', 'Track_Name', 'Artist_Name', 'Gender', 'DOB', 'Album_Name', 'Release_Date', \n",
    "                                     'Label', 'Num_Sp_Playlists', 'Playlist_Total_Reach', 'Key', \n",
    "                                     'danceability', 'energy', 'acoustiness', 'instrumentalness', 'liveness',\n",
    "                                     'valence', 'tempo', 'loudness')\n",
    "  \n",
    "#create a dictionary with keys as column names\n",
    "track_dict = {k:[] for k in  key_tuple }\n",
    "track_dict"
   ]
  },
  {
   "cell_type": "code",
   "execution_count": null,
   "metadata": {},
   "outputs": [],
   "source": [
    "#put all the functions in a for loop to grab metadata for all 8000 tracks\n",
    "count = 0\n",
    "for one_track_id in track_ids:\n",
    "    count += 1\n",
    "\n",
    "    try:\n",
    "        track = get_track_metadata(headers, one_track_id)\n",
    "    except:\n",
    "        print('No track found', count)\n",
    "    finally:\n",
    "        pass\n",
    "    \n",
    "    \n",
    "        value_tuple = parse_track_metadata(track)\n",
    "    \n",
    "\n",
    "        for i in range(len(track_dict)):\n",
    "\n",
    "            list(track_dict.values())[i].append(value_tuple[i])\n",
    "\n",
    "\n",
    "        with open('track_metadata.json', 'w') as json_file:\n",
    "            json.dump(track_dict, json_file)"
   ]
  },
  {
   "cell_type": "code",
   "execution_count": null,
   "metadata": {},
   "outputs": [],
   "source": [
    "list(track_dict.values())[0]"
   ]
  },
  {
   "cell_type": "code",
   "execution_count": null,
   "metadata": {},
   "outputs": [],
   "source": [
    "df = pd.read_json('track_metadata.json')"
   ]
  },
  {
   "cell_type": "code",
   "execution_count": null,
   "metadata": {},
   "outputs": [],
   "source": [
    "df"
   ]
  },
  {
   "cell_type": "code",
   "execution_count": null,
   "metadata": {},
   "outputs": [],
   "source": [
    "df.isnull().sum()"
   ]
  },
  {
   "cell_type": "code",
   "execution_count": null,
   "metadata": {},
   "outputs": [],
   "source": [
    "\n",
    "\n",
    "\n",
    "        \n",
    "\n",
    "\n",
    "\n",
    " "
   ]
  },
  {
   "cell_type": "code",
   "execution_count": null,
   "metadata": {},
   "outputs": [],
   "source": []
  },
  {
   "cell_type": "code",
   "execution_count": null,
   "metadata": {},
   "outputs": [],
   "source": []
  },
  {
   "cell_type": "code",
   "execution_count": null,
   "metadata": {},
   "outputs": [],
   "source": []
  },
  {
   "cell_type": "code",
   "execution_count": null,
   "metadata": {},
   "outputs": [],
   "source": []
  },
  {
   "cell_type": "code",
   "execution_count": null,
   "metadata": {},
   "outputs": [],
   "source": [
    "# for key, value in track_dict.items():\n",
    "#     print(type(value))"
   ]
  },
  {
   "cell_type": "code",
   "execution_count": null,
   "metadata": {
    "scrolled": true
   },
   "outputs": [],
   "source": []
  },
  {
   "cell_type": "code",
   "execution_count": null,
   "metadata": {},
   "outputs": [],
   "source": []
  },
  {
   "cell_type": "code",
   "execution_count": null,
   "metadata": {},
   "outputs": [],
   "source": []
  }
 ],
 "metadata": {
  "kernelspec": {
   "display_name": "Python 3",
   "language": "python",
   "name": "python3"
  },
  "language_info": {
   "codemirror_mode": {
    "name": "ipython",
    "version": 3
   },
   "file_extension": ".py",
   "mimetype": "text/x-python",
   "name": "python",
   "nbconvert_exporter": "python",
   "pygments_lexer": "ipython3",
   "version": "3.7.4"
  }
 },
 "nbformat": 4,
 "nbformat_minor": 2
}
