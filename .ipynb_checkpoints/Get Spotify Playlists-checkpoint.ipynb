{
 "cells": [
  {
   "cell_type": "code",
   "execution_count": 1,
   "metadata": {},
   "outputs": [],
   "source": [
    "import requests\n",
    "import json\n",
    "import pandas as pd"
   ]
  },
  {
   "cell_type": "code",
   "execution_count": 2,
   "metadata": {},
   "outputs": [],
   "source": [
    "REFRESH_TOKEN = 'ZT9RCsKBcwHaLCPulKmDFXWPxpwfoYtAdYunn5qgeVWnpzYBEkw5qXzFraNgPIAS'\n",
    "api_url = 'https://api.chartmetric.com/api/token'\n",
    "data = {'refreshtoken' : REFRESH_TOKEN}\n",
    "json = {'Content-Type' : 'application/json'}"
   ]
  },
  {
   "cell_type": "code",
   "execution_count": 3,
   "metadata": {},
   "outputs": [],
   "source": [
    "#create function to retrieve access token\n",
    "def get_api_token(url, data, json):\n",
    "\n",
    "    response = requests.post(url=api_url, data={'refreshtoken' : REFRESH_TOKEN}, \n",
    "                             json={'Content-Type' : 'application/json'})\n",
    "    results = response.json()\n",
    "    api_token = results['token']\n",
    "    return api_token\n",
    "api_token = get_api_token(api_url, data, json)  "
   ]
  },
  {
   "cell_type": "code",
   "execution_count": null,
   "metadata": {},
   "outputs": [],
   "source": []
  },
  {
   "cell_type": "code",
   "execution_count": 12,
   "metadata": {},
   "outputs": [],
   "source": [
    "headers={'Authorization' : 'Bearer {}'.format(api_token)}\n",
    "\n",
    "params = {'limit': 100\n",
    "    \n",
    "}\n",
    "\n",
    "def get_playlists(headers, platform):\n",
    "    response = requests.get(url='https://api.chartmetric.com/api/playlist/{}/lists'.format(platform),\n",
    "                        headers=headers, params=params\n",
    "                            )\n",
    "    \n",
    "    data = response.json()\n",
    "    return data['obj']\n",
    "    "
   ]
  },
  {
   "cell_type": "code",
   "execution_count": null,
   "metadata": {},
   "outputs": [],
   "source": [
    "results = get_playlists(headers, 'spotify')"
   ]
  },
  {
   "cell_type": "code",
   "execution_count": null,
   "metadata": {},
   "outputs": [],
   "source": [
    "#define variable for one playlist\n",
    "one_playlist = results[0]"
   ]
  },
  {
   "cell_type": "code",
   "execution_count": null,
   "metadata": {},
   "outputs": [],
   "source": [
    "#review keys for one playlist\n",
    "one_playlist"
   ]
  },
  {
   "cell_type": "markdown",
   "metadata": {},
   "source": [
    "## Create Function to Parse Playlist Data"
   ]
  },
  {
   "cell_type": "code",
   "execution_count": 5,
   "metadata": {},
   "outputs": [],
   "source": [
    "def parse_playlist_data(results):\n",
    "    tuple_list = []\n",
    "\n",
    "    for playlist in results:\n",
    "\n",
    "        playlist_tuple = (playlist['id'], playlist['name'], playlist['followers'],\n",
    "                          playlist['editorial'], playlist['monthly_listeners'])\n",
    "        tuple_list.append(playlist_tuple)\n",
    "    return tuple_list\n",
    "    "
   ]
  },
  {
   "cell_type": "code",
   "execution_count": null,
   "metadata": {},
   "outputs": [],
   "source": [
    "tuple_list = parse_playlist_data(results)"
   ]
  },
  {
   "cell_type": "markdown",
   "metadata": {},
   "source": [
    "## Creating a DataFrame"
   ]
  },
  {
   "cell_type": "code",
   "execution_count": 7,
   "metadata": {},
   "outputs": [],
   "source": [
    "#create a function that inserts playlist data into a dataframe\n",
    "def create_playlist_dataframe(data):\n",
    "\n",
    "    df = pd.DataFrame(data=data, columns=['CM_ID', 'Playlist_Name', 'Total_Followers', \n",
    "                                       'Editorial', 'Monthly_Listeners'])\n",
    "    return df\n",
    "    "
   ]
  },
  {
   "cell_type": "code",
   "execution_count": null,
   "metadata": {},
   "outputs": [],
   "source": [
    "create_playlist_dataframe(data)"
   ]
  },
  {
   "cell_type": "code",
   "execution_count": null,
   "metadata": {},
   "outputs": [],
   "source": []
  },
  {
   "cell_type": "code",
   "execution_count": 13,
   "metadata": {},
   "outputs": [],
   "source": [
    "playlists = get_playlists(headers, 'spotify')\n",
    "\n",
    "\n",
    "\n"
   ]
  },
  {
   "cell_type": "code",
   "execution_count": 14,
   "metadata": {},
   "outputs": [],
   "source": [
    "playlist_data = parse_playlist_data(playlists)"
   ]
  },
  {
   "cell_type": "code",
   "execution_count": 15,
   "metadata": {},
   "outputs": [],
   "source": [
    "df = create_playlist_dataframe(playlist_data)\n"
   ]
  },
  {
   "cell_type": "code",
   "execution_count": 17,
   "metadata": {},
   "outputs": [],
   "source": [
    "#create csv file for spotify playlists\n",
    "\n",
    "df.to_csv('spotify_playlist_data.csv')"
   ]
  },
  {
   "cell_type": "code",
   "execution_count": null,
   "metadata": {},
   "outputs": [],
   "source": [
    "insert_playlist_into_dataframe(data)"
   ]
  },
  {
   "cell_type": "code",
   "execution_count": null,
   "metadata": {},
   "outputs": [],
   "source": []
  }
 ],
 "metadata": {
  "kernelspec": {
   "display_name": "Python 3",
   "language": "python",
   "name": "python3"
  },
  "language_info": {
   "codemirror_mode": {
    "name": "ipython",
    "version": 3
   },
   "file_extension": ".py",
   "mimetype": "text/x-python",
   "name": "python",
   "nbconvert_exporter": "python",
   "pygments_lexer": "ipython3",
   "version": "3.7.4"
  }
 },
 "nbformat": 4,
 "nbformat_minor": 2
}
